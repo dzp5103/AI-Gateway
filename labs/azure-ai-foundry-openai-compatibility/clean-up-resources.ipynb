{
 "cells": [
  {
   "cell_type": "markdown",
   "metadata": {},
   "source": [
    "# 🗑️ Clean up resources\n",
    "\n",
    "This notebook helps you clean up the Azure resources created during the Azure AI Foundry OpenAI Compatibility lab to avoid unnecessary charges.\n",
    "\n",
    "## What will be deleted:\n",
    "- Azure API Management instance\n",
    "- Application Insights instance\n",
    "- Log Analytics workspace\n",
    "- Resource Group (and all contained resources)\n",
    "\n",
    "⚠️ **Warning**: This action is irreversible. Make sure you no longer need these resources."
   ]
  },
  {
   "cell_type": "code",
   "execution_count": null,
   "metadata": {},
   "outputs": [],
   "source": [
    "import os, sys\n",
    "sys.path.insert(1, '../../shared')\n",
    "from utils import get_unique_identifier\n",
    "\n",
    "# Get the resource group name (should match what was used in the main notebook)\n",
    "resource_group_name = f\"rg-ai-foundry-openai-compatibility-{get_unique_identifier()}\"\n",
    "\n",
    "print(f\"🎯 Target Resource Group: {resource_group_name}\")"
   ]
  },
  {
   "cell_type": "code",
   "execution_count": null,
   "metadata": {},
   "outputs": [],
   "source": [
    "# List resources in the resource group\n",
    "print(\"📋 Resources to be deleted:\")\n",
    "!az resource list --resource-group {resource_group_name} --output table"
   ]
  },
  {
   "cell_type": "code",
   "execution_count": null,
   "metadata": {},
   "outputs": [],
   "source": [
    "# Confirm deletion\n",
    "import ipywidgets as widgets\n",
    "from IPython.display import display\n",
    "\n",
    "def confirm_deletion():\n",
    "    confirm_text = widgets.Text(\n",
    "        value='',\n",
    "        placeholder='Type \"DELETE\" to confirm',\n",
    "        description='Confirm:',\n",
    "        disabled=False\n",
    "    )\n",
    "    \n",
    "    delete_button = widgets.Button(\n",
    "        description='Delete Resources',\n",
    "        disabled=True,\n",
    "        button_style='danger'\n",
    "    )\n",
    "    \n",
    "    output = widgets.Output()\n",
    "    \n",
    "    def on_text_change(change):\n",
    "        if change['new'] == 'DELETE':\n",
    "            delete_button.disabled = False\n",
    "        else:\n",
    "            delete_button.disabled = True\n",
    "    \n",
    "    def on_delete_clicked(b):\n",
    "        with output:\n",
    "            print(f\"🗑️ Deleting resource group: {resource_group_name}\")\n",
    "            print(\"This may take several minutes...\")\n",
    "    \n",
    "    confirm_text.observe(on_text_change, names='value')\n",
    "    delete_button.on_click(on_delete_clicked)\n",
    "    \n",
    "    display(widgets.VBox([\n",
    "        widgets.HTML(f\"<b>⚠️ You are about to delete resource group: {resource_group_name}</b>\"),\n",
    "        confirm_text,\n",
    "        delete_button,\n",
    "        output\n",
    "    ]))\n",
    "\n",
    "# Uncomment the next line to show the interactive deletion widget\n",
    "# confirm_deletion()"
   ]
  },
  {
   "cell_type": "code",
   "execution_count": null,
   "metadata": {},
   "outputs": [],
   "source": [
    "# Alternative: Direct deletion command\n",
    "# Uncomment the following line to delete the resource group immediately\n",
    "# !az group delete --name {resource_group_name} --yes --no-wait\n",
    "\n",
    "print(\"🔧 Manual deletion commands:\")\n",
    "print(f\"\\n1. Delete resource group (removes all resources):\")\n",
    "print(f\"   az group delete --name {resource_group_name} --yes\")\n",
    "print(f\"\\n2. Check deletion status:\")\n",
    "print(f\"   az group show --name {resource_group_name}\")\n",
    "print(f\"\\n3. List all resource groups:\")\n",
    "print(f\"   az group list --output table\")"
   ]
  },
  {
   "cell_type": "code",
   "execution_count": null,
   "metadata": {},
   "outputs": [],
   "source": [
    "# Verify deletion\n",
    "try:\n",
    "    result = !az group show --name {resource_group_name} --output json\n",
    "    if result:\n",
    "        print(f\"ℹ️ Resource group {resource_group_name} still exists\")\n",
    "        print(\"If you initiated deletion, it may still be in progress\")\n",
    "    else:\n",
    "        print(f\"✅ Resource group {resource_group_name} has been deleted\")\nexcept:\n",
    "    print(f\"✅ Resource group {resource_group_name} does not exist\")"
   ]
  },
  {
   "cell_type": "markdown",
   "metadata": {},
   "source": [
    "## 🎉 Cleanup Complete!\n",
    "\n",
    "If you've successfully deleted the resource group, all resources from the Azure AI Foundry OpenAI Compatibility lab have been removed.\n",
    "\n",
    "### What was deleted:\n",
    "- ✅ Azure API Management instance\n",
    "- ✅ Application Insights instance  \n",
    "- ✅ Log Analytics workspace\n",
    "- ✅ All associated subscriptions and configurations\n",
    "\n",
    "### Next steps:\n",
    "- Check your Azure portal to confirm resource deletion\n",
    "- Remove any VS Code extension configurations you no longer need\n",
    "- Consider exploring other labs in this repository\n",
    "\n",
    "Thank you for using the AI Gateway labs! 🚀"
   ]
  }
 ],
 "metadata": {
  "kernelspec": {
   "display_name": "Python 3",
   "language": "python",
   "name": "python3"
  },
  "language_info": {
   "codemirror_mode": {
    "name": "ipython",
    "version": 3
   },
   "file_extension": ".py",
   "mimetype": "text/x-python",
   "name": "python",
   "nbconvert_exporter": "python",
   "pygments_lexer": "ipython3",
   "version": "3.12.0"
  }
 },
 "nbformat": 4,
 "nbformat_minor": 4
}